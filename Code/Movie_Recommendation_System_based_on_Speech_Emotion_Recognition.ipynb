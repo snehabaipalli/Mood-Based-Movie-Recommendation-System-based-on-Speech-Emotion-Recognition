{
  "cells": [
    {
      "cell_type": "markdown",
      "metadata": {
        "id": "wd1zknE2IRew"
      },
      "source": [
        "\n",
        "[Dataset](https://drive.google.com/file/d/1wWsrN2Ep7x6lWqOXfr4rpKGYrJhWc8z7/view)"
      ]
    },
    {
      "cell_type": "code",
      "execution_count": null,
      "metadata": {
        "id": "bJcxZ6D92QP5"
      },
      "outputs": [],
      "source": []
    },
    {
      "cell_type": "code",
      "execution_count": null,
      "metadata": {
        "colab": {
          "base_uri": "https://localhost:8080/"
        },
        "id": "jlwYeabo2Qr1",
        "outputId": "d23d76a1-490c-4210-ca2e-84fb3f7de7f2"
      },
      "outputs": [
        {
          "name": "stdout",
          "output_type": "stream",
          "text": [
            "Drive already mounted at /content/drive; to attempt to forcibly remount, call drive.mount(\"/content/drive\", force_remount=True).\n"
          ]
        }
      ],
      "source": [
        "from google.colab import drive\n",
        "drive.mount('/content/drive')"
      ]
    },
    {
      "cell_type": "code",
      "execution_count": null,
      "metadata": {
        "id": "4CKPHhxqoeid"
      },
      "outputs": [],
      "source": [
        "import os\n",
        "Root = \"/content/drive/MyDrive/Colab Notebooks/RAVDESS_Emotional_speech_audio\"\n",
        "os.chdir(Root)"
      ]
    },
    {
      "cell_type": "code",
      "execution_count": null,
      "metadata": {
        "id": "CHlkrPZPpXlI"
      },
      "outputs": [],
      "source": []
    },
    {
      "cell_type": "code",
      "execution_count": null,
      "metadata": {
        "id": "su3Licf6Ug22"
      },
      "outputs": [],
      "source": []
    },
    {
      "cell_type": "code",
      "execution_count": null,
      "metadata": {
        "id": "_IehQoF0pZxl"
      },
      "outputs": [],
      "source": [
        "import librosa\n",
        "import soundfile\n",
        "import os, glob, pickle\n",
        "import numpy as np\n",
        "from sklearn.model_selection import train_test_split\n",
        "from sklearn.neural_network import MLPClassifier\n",
        "from sklearn.metrics import accuracy_score"
      ]
    },
    {
      "cell_type": "code",
      "execution_count": null,
      "metadata": {
        "id": "cOrKu9Cnphen"
      },
      "outputs": [],
      "source": [
        "#Extract features (mfcc, chroma, mel) from a sound file\n",
        "def extract_feature(file_name, mfcc, chroma, mel):\n",
        "    with soundfile.SoundFile(file_name) as sound_file:\n",
        "        X = sound_file.read(dtype=\"float32\")\n",
        "        sample_rate=sound_file.samplerate\n",
        "        if chroma:\n",
        "            stft=np.abs(librosa.stft(X))\n",
        "        result=np.array([])\n",
        "        if mfcc:\n",
        "            mfccs=np.mean(librosa.feature.mfcc(y=X, sr=sample_rate, n_mfcc=40).T, axis=0)\n",
        "            result=np.hstack((result, mfccs))\n",
        "        if chroma:\n",
        "            chroma=np.mean(librosa.feature.chroma_stft(S=stft, sr=sample_rate).T,axis=0)\n",
        "            result=np.hstack((result, chroma))\n",
        "        if mel:\n",
        "            mel=np.mean(librosa.feature.melspectrogram(y=X,sr=sample_rate).T,axis=0)\n",
        "            result=np.hstack((result, mel))\n",
        "    return result"
      ]
    },
    {
      "cell_type": "code",
      "execution_count": null,
      "metadata": {
        "id": "ljV0QLcXpmRP"
      },
      "outputs": [],
      "source": [
        "\n",
        "emotions={\n",
        "  '01':'neutral',\n",
        "  '02':'calm',\n",
        "  '03':'happy',\n",
        "  '04':'sad',\n",
        "  '05':'angry',\n",
        "  '06':'fearful',\n",
        "  '07':'disgust',\n",
        "  '08':'surprised'\n",
        "}\n",
        "\n",
        "#Emotions to observe\n",
        "observed_emotions=['calm', 'happy', 'fearful', 'disgust']"
      ]
    },
    {
      "cell_type": "code",
      "execution_count": null,
      "metadata": {
        "id": "O46uIg3kpzrG"
      },
      "outputs": [],
      "source": [
        "#Load the data and extract features for each sound file\n",
        "def load_data(test_size=0.2):\n",
        "    x,y=[],[]\n",
        "    for file in glob.glob(\"/content/drive/MyDrive/Colab Notebooks/RAVDESS_Emotional_speech_audio/speech-emotion-recognition-ravdess-data/Actor_*/*.wav\"):\n",
        "        file_name=os.path.basename(file)\n",
        "        emotion=emotions[file_name.split(\"-\")[2]]\n",
        "        if emotion not in observed_emotions:\n",
        "            continue\n",
        "        feature=extract_feature(file, mfcc=True, chroma=True, mel=True)\n",
        "        x.append(feature)\n",
        "        y.append(emotion)\n",
        "    return train_test_split(np.array(x), y, test_size=test_size, random_state=9)"
      ]
    },
    {
      "cell_type": "code",
      "execution_count": null,
      "metadata": {
        "id": "gE_MSQYDqPqg"
      },
      "outputs": [],
      "source": [
        "#Split the dataset\n",
        "x_train,x_test,y_train,y_test=load_data(test_size=0.25)"
      ]
    },
    {
      "cell_type": "code",
      "execution_count": null,
      "metadata": {
        "colab": {
          "base_uri": "https://localhost:8080/"
        },
        "id": "Fo872mW8urUM",
        "outputId": "b90e13df-fdd5-4c86-dc66-f2aa5da88aa2"
      },
      "outputs": [
        {
          "data": {
            "text/plain": [
              "array([[-5.00958313e+02,  3.33561363e+01, -2.19627724e+01, ...,\n",
              "         4.66570898e-04,  3.32368480e-04,  1.58667724e-04],\n",
              "       [-3.68174896e+02,  1.21515379e+01, -4.14459991e+01, ...,\n",
              "         5.45278145e-03,  3.56062246e-03,  2.32826290e-03],\n",
              "       [-6.60813721e+02,  5.15558128e+01,  8.22291183e+00, ...,\n",
              "         3.79883044e-04,  1.51239452e-04,  8.75224723e-05],\n",
              "       ...,\n",
              "       [-6.38889038e+02,  4.68636932e+01,  4.74644452e-03, ...,\n",
              "         1.31693756e-04,  1.22964979e-04,  8.94539771e-05],\n",
              "       [-5.81752563e+02,  3.85484390e+01, -1.54588423e+01, ...,\n",
              "         6.08591581e-05,  4.53564789e-05,  4.73912369e-05],\n",
              "       [-6.41227722e+02,  4.49487762e+01, -1.85174131e+00, ...,\n",
              "         3.89261913e-05,  3.05255380e-05,  2.94166657e-05]])"
            ]
          },
          "execution_count": 36,
          "metadata": {},
          "output_type": "execute_result"
        }
      ],
      "source": [
        "x_train"
      ]
    },
    {
      "cell_type": "code",
      "execution_count": null,
      "metadata": {
        "colab": {
          "base_uri": "https://localhost:8080/"
        },
        "id": "xeKsCLk5JJjA",
        "outputId": "4be6e75e-439a-4664-c793-8692516dc590"
      },
      "outputs": [
        {
          "data": {
            "text/plain": [
              "['happy',\n",
              " 'fearful',\n",
              " 'disgust',\n",
              " 'calm',\n",
              " 'calm',\n",
              " 'disgust',\n",
              " 'calm',\n",
              " 'disgust',\n",
              " 'calm',\n",
              " 'happy',\n",
              " 'calm',\n",
              " 'happy',\n",
              " 'happy',\n",
              " 'happy',\n",
              " 'calm',\n",
              " 'disgust',\n",
              " 'happy',\n",
              " 'happy',\n",
              " 'calm',\n",
              " 'fearful',\n",
              " 'happy',\n",
              " 'happy',\n",
              " 'disgust',\n",
              " 'happy',\n",
              " 'disgust',\n",
              " 'happy',\n",
              " 'calm',\n",
              " 'disgust',\n",
              " 'fearful',\n",
              " 'calm',\n",
              " 'disgust',\n",
              " 'disgust',\n",
              " 'happy',\n",
              " 'fearful',\n",
              " 'calm',\n",
              " 'fearful',\n",
              " 'fearful',\n",
              " 'disgust',\n",
              " 'disgust',\n",
              " 'fearful',\n",
              " 'disgust',\n",
              " 'disgust',\n",
              " 'fearful',\n",
              " 'fearful',\n",
              " 'calm',\n",
              " 'disgust',\n",
              " 'happy',\n",
              " 'disgust',\n",
              " 'happy',\n",
              " 'calm',\n",
              " 'disgust',\n",
              " 'disgust',\n",
              " 'calm',\n",
              " 'happy',\n",
              " 'fearful',\n",
              " 'happy',\n",
              " 'disgust',\n",
              " 'happy',\n",
              " 'disgust',\n",
              " 'happy',\n",
              " 'disgust',\n",
              " 'disgust',\n",
              " 'happy',\n",
              " 'disgust',\n",
              " 'calm',\n",
              " 'happy',\n",
              " 'happy',\n",
              " 'happy',\n",
              " 'disgust',\n",
              " 'disgust',\n",
              " 'fearful',\n",
              " 'happy',\n",
              " 'fearful',\n",
              " 'calm',\n",
              " 'disgust',\n",
              " 'calm',\n",
              " 'calm',\n",
              " 'happy',\n",
              " 'fearful',\n",
              " 'calm',\n",
              " 'calm',\n",
              " 'fearful',\n",
              " 'disgust',\n",
              " 'disgust',\n",
              " 'disgust',\n",
              " 'happy',\n",
              " 'fearful',\n",
              " 'fearful',\n",
              " 'disgust',\n",
              " 'fearful',\n",
              " 'disgust',\n",
              " 'happy',\n",
              " 'happy',\n",
              " 'fearful',\n",
              " 'disgust',\n",
              " 'calm',\n",
              " 'calm',\n",
              " 'calm',\n",
              " 'happy',\n",
              " 'happy',\n",
              " 'calm',\n",
              " 'fearful',\n",
              " 'calm',\n",
              " 'fearful',\n",
              " 'happy',\n",
              " 'calm',\n",
              " 'fearful',\n",
              " 'calm',\n",
              " 'happy',\n",
              " 'happy',\n",
              " 'disgust',\n",
              " 'fearful',\n",
              " 'calm',\n",
              " 'happy',\n",
              " 'fearful',\n",
              " 'fearful',\n",
              " 'happy',\n",
              " 'fearful',\n",
              " 'calm',\n",
              " 'disgust',\n",
              " 'fearful',\n",
              " 'calm',\n",
              " 'disgust',\n",
              " 'fearful',\n",
              " 'calm',\n",
              " 'disgust',\n",
              " 'fearful',\n",
              " 'calm',\n",
              " 'happy',\n",
              " 'happy',\n",
              " 'disgust',\n",
              " 'calm',\n",
              " 'disgust',\n",
              " 'disgust',\n",
              " 'happy',\n",
              " 'disgust',\n",
              " 'disgust',\n",
              " 'calm',\n",
              " 'fearful',\n",
              " 'disgust',\n",
              " 'calm',\n",
              " 'calm',\n",
              " 'fearful',\n",
              " 'happy',\n",
              " 'fearful',\n",
              " 'disgust',\n",
              " 'disgust',\n",
              " 'fearful',\n",
              " 'disgust',\n",
              " 'calm',\n",
              " 'disgust',\n",
              " 'calm',\n",
              " 'fearful',\n",
              " 'happy',\n",
              " 'happy',\n",
              " 'fearful',\n",
              " 'calm',\n",
              " 'happy',\n",
              " 'calm',\n",
              " 'calm',\n",
              " 'calm',\n",
              " 'calm',\n",
              " 'calm',\n",
              " 'fearful',\n",
              " 'fearful',\n",
              " 'fearful',\n",
              " 'happy',\n",
              " 'happy',\n",
              " 'calm',\n",
              " 'calm',\n",
              " 'fearful',\n",
              " 'disgust',\n",
              " 'disgust',\n",
              " 'happy',\n",
              " 'fearful',\n",
              " 'happy',\n",
              " 'happy',\n",
              " 'calm',\n",
              " 'happy',\n",
              " 'fearful',\n",
              " 'happy',\n",
              " 'disgust',\n",
              " 'disgust',\n",
              " 'fearful',\n",
              " 'fearful',\n",
              " 'happy',\n",
              " 'disgust',\n",
              " 'happy',\n",
              " 'happy',\n",
              " 'fearful',\n",
              " 'happy',\n",
              " 'disgust',\n",
              " 'fearful',\n",
              " 'fearful',\n",
              " 'calm',\n",
              " 'disgust',\n",
              " 'happy',\n",
              " 'calm',\n",
              " 'happy',\n",
              " 'disgust',\n",
              " 'calm',\n",
              " 'disgust',\n",
              " 'calm',\n",
              " 'fearful',\n",
              " 'happy',\n",
              " 'calm',\n",
              " 'disgust',\n",
              " 'happy',\n",
              " 'disgust',\n",
              " 'fearful',\n",
              " 'fearful',\n",
              " 'calm',\n",
              " 'disgust',\n",
              " 'happy',\n",
              " 'happy',\n",
              " 'happy',\n",
              " 'happy',\n",
              " 'happy',\n",
              " 'fearful',\n",
              " 'happy',\n",
              " 'calm',\n",
              " 'calm',\n",
              " 'disgust',\n",
              " 'happy',\n",
              " 'fearful',\n",
              " 'happy',\n",
              " 'happy',\n",
              " 'calm',\n",
              " 'happy',\n",
              " 'calm',\n",
              " 'happy',\n",
              " 'disgust',\n",
              " 'fearful',\n",
              " 'calm',\n",
              " 'calm',\n",
              " 'calm',\n",
              " 'happy',\n",
              " 'happy',\n",
              " 'fearful',\n",
              " 'calm',\n",
              " 'happy',\n",
              " 'happy',\n",
              " 'calm',\n",
              " 'happy',\n",
              " 'fearful',\n",
              " 'happy',\n",
              " 'calm',\n",
              " 'happy',\n",
              " 'calm',\n",
              " 'fearful',\n",
              " 'fearful',\n",
              " 'fearful',\n",
              " 'fearful',\n",
              " 'calm',\n",
              " 'happy',\n",
              " 'fearful',\n",
              " 'disgust',\n",
              " 'calm',\n",
              " 'happy',\n",
              " 'happy',\n",
              " 'calm',\n",
              " 'calm',\n",
              " 'disgust',\n",
              " 'happy',\n",
              " 'disgust',\n",
              " 'fearful',\n",
              " 'calm',\n",
              " 'fearful',\n",
              " 'fearful',\n",
              " 'happy',\n",
              " 'fearful',\n",
              " 'disgust',\n",
              " 'disgust',\n",
              " 'happy',\n",
              " 'fearful',\n",
              " 'disgust',\n",
              " 'disgust',\n",
              " 'disgust',\n",
              " 'calm',\n",
              " 'calm',\n",
              " 'disgust',\n",
              " 'calm',\n",
              " 'happy',\n",
              " 'happy',\n",
              " 'fearful',\n",
              " 'happy',\n",
              " 'fearful',\n",
              " 'happy',\n",
              " 'disgust',\n",
              " 'disgust',\n",
              " 'calm',\n",
              " 'disgust',\n",
              " 'happy',\n",
              " 'happy',\n",
              " 'calm',\n",
              " 'happy',\n",
              " 'disgust',\n",
              " 'fearful',\n",
              " 'calm',\n",
              " 'disgust',\n",
              " 'disgust',\n",
              " 'fearful',\n",
              " 'disgust',\n",
              " 'fearful',\n",
              " 'disgust',\n",
              " 'fearful',\n",
              " 'calm',\n",
              " 'happy',\n",
              " 'fearful',\n",
              " 'disgust',\n",
              " 'happy',\n",
              " 'calm',\n",
              " 'calm',\n",
              " 'fearful',\n",
              " 'fearful',\n",
              " 'calm',\n",
              " 'happy',\n",
              " 'fearful',\n",
              " 'calm',\n",
              " 'fearful',\n",
              " 'fearful',\n",
              " 'happy',\n",
              " 'calm',\n",
              " 'happy',\n",
              " 'fearful',\n",
              " 'fearful',\n",
              " 'calm',\n",
              " 'disgust',\n",
              " 'calm',\n",
              " 'disgust',\n",
              " 'fearful',\n",
              " 'calm',\n",
              " 'happy',\n",
              " 'calm',\n",
              " 'disgust',\n",
              " 'fearful',\n",
              " 'happy',\n",
              " 'calm',\n",
              " 'calm',\n",
              " 'calm',\n",
              " 'happy',\n",
              " 'calm',\n",
              " 'disgust',\n",
              " 'happy',\n",
              " 'fearful',\n",
              " 'fearful',\n",
              " 'happy',\n",
              " 'fearful',\n",
              " 'calm',\n",
              " 'happy',\n",
              " 'disgust',\n",
              " 'fearful',\n",
              " 'happy',\n",
              " 'calm',\n",
              " 'calm',\n",
              " 'disgust',\n",
              " 'fearful',\n",
              " 'fearful',\n",
              " 'fearful',\n",
              " 'fearful',\n",
              " 'happy',\n",
              " 'calm',\n",
              " 'fearful',\n",
              " 'fearful',\n",
              " 'calm',\n",
              " 'disgust',\n",
              " 'happy',\n",
              " 'fearful',\n",
              " 'calm',\n",
              " 'disgust',\n",
              " 'fearful',\n",
              " 'disgust',\n",
              " 'fearful',\n",
              " 'happy',\n",
              " 'calm',\n",
              " 'calm',\n",
              " 'happy',\n",
              " 'happy',\n",
              " 'calm',\n",
              " 'fearful',\n",
              " 'calm',\n",
              " 'disgust',\n",
              " 'disgust',\n",
              " 'calm',\n",
              " 'fearful',\n",
              " 'happy',\n",
              " 'happy',\n",
              " 'happy',\n",
              " 'happy',\n",
              " 'disgust',\n",
              " 'fearful',\n",
              " 'fearful',\n",
              " 'calm',\n",
              " 'happy',\n",
              " 'happy',\n",
              " 'calm',\n",
              " 'disgust',\n",
              " 'happy',\n",
              " 'happy',\n",
              " 'happy',\n",
              " 'calm',\n",
              " 'happy',\n",
              " 'calm',\n",
              " 'disgust',\n",
              " 'disgust',\n",
              " 'disgust',\n",
              " 'disgust',\n",
              " 'calm',\n",
              " 'fearful',\n",
              " 'disgust',\n",
              " 'happy',\n",
              " 'calm',\n",
              " 'calm',\n",
              " 'disgust',\n",
              " 'fearful',\n",
              " 'happy',\n",
              " 'happy',\n",
              " 'disgust',\n",
              " 'disgust',\n",
              " 'calm',\n",
              " 'disgust',\n",
              " 'disgust',\n",
              " 'calm',\n",
              " 'calm',\n",
              " 'calm',\n",
              " 'fearful',\n",
              " 'fearful',\n",
              " 'fearful',\n",
              " 'disgust',\n",
              " 'happy',\n",
              " 'disgust',\n",
              " 'disgust',\n",
              " 'calm',\n",
              " 'happy',\n",
              " 'disgust',\n",
              " 'calm',\n",
              " 'disgust',\n",
              " 'disgust',\n",
              " 'fearful',\n",
              " 'fearful',\n",
              " 'fearful',\n",
              " 'happy',\n",
              " 'happy',\n",
              " 'fearful',\n",
              " 'happy',\n",
              " 'calm',\n",
              " 'fearful',\n",
              " 'fearful',\n",
              " 'happy',\n",
              " 'calm',\n",
              " 'disgust',\n",
              " 'happy',\n",
              " 'happy',\n",
              " 'disgust',\n",
              " 'fearful',\n",
              " 'happy',\n",
              " 'happy',\n",
              " 'happy',\n",
              " 'disgust',\n",
              " 'fearful',\n",
              " 'disgust',\n",
              " 'calm',\n",
              " 'happy',\n",
              " 'disgust',\n",
              " 'disgust',\n",
              " 'fearful',\n",
              " 'calm',\n",
              " 'calm',\n",
              " 'fearful',\n",
              " 'happy',\n",
              " 'disgust',\n",
              " 'disgust',\n",
              " 'calm',\n",
              " 'happy',\n",
              " 'happy',\n",
              " 'happy',\n",
              " 'fearful',\n",
              " 'happy',\n",
              " 'calm',\n",
              " 'disgust',\n",
              " 'calm',\n",
              " 'calm',\n",
              " 'fearful',\n",
              " 'calm',\n",
              " 'fearful',\n",
              " 'fearful',\n",
              " 'fearful',\n",
              " 'happy',\n",
              " 'fearful',\n",
              " 'disgust',\n",
              " 'fearful',\n",
              " 'fearful',\n",
              " 'calm',\n",
              " 'happy',\n",
              " 'happy',\n",
              " 'disgust',\n",
              " 'happy',\n",
              " 'happy',\n",
              " 'happy',\n",
              " 'disgust',\n",
              " 'fearful',\n",
              " 'happy',\n",
              " 'fearful',\n",
              " 'disgust',\n",
              " 'disgust',\n",
              " 'fearful',\n",
              " 'calm',\n",
              " 'fearful',\n",
              " 'calm',\n",
              " 'calm',\n",
              " 'calm',\n",
              " 'fearful',\n",
              " 'calm',\n",
              " 'disgust',\n",
              " 'happy',\n",
              " 'calm',\n",
              " 'disgust',\n",
              " 'disgust',\n",
              " 'happy',\n",
              " 'disgust',\n",
              " 'happy',\n",
              " 'disgust',\n",
              " 'disgust',\n",
              " 'calm',\n",
              " 'calm',\n",
              " 'disgust',\n",
              " 'calm',\n",
              " 'disgust',\n",
              " 'disgust',\n",
              " 'calm',\n",
              " 'disgust',\n",
              " 'fearful',\n",
              " 'happy',\n",
              " 'fearful',\n",
              " 'calm',\n",
              " 'happy',\n",
              " 'fearful',\n",
              " 'disgust',\n",
              " 'calm',\n",
              " 'disgust',\n",
              " 'calm',\n",
              " 'fearful',\n",
              " 'fearful',\n",
              " 'disgust',\n",
              " 'calm',\n",
              " 'fearful',\n",
              " 'calm',\n",
              " 'fearful',\n",
              " 'fearful',\n",
              " 'happy',\n",
              " 'disgust',\n",
              " 'calm',\n",
              " 'disgust',\n",
              " 'disgust',\n",
              " 'calm',\n",
              " 'fearful',\n",
              " 'calm',\n",
              " 'disgust',\n",
              " 'calm',\n",
              " 'happy',\n",
              " 'calm',\n",
              " 'fearful',\n",
              " 'disgust',\n",
              " 'calm',\n",
              " 'calm',\n",
              " 'happy',\n",
              " 'disgust',\n",
              " 'disgust',\n",
              " 'happy',\n",
              " 'disgust',\n",
              " 'fearful',\n",
              " 'disgust',\n",
              " 'fearful',\n",
              " 'fearful',\n",
              " 'calm',\n",
              " 'fearful',\n",
              " 'fearful',\n",
              " 'happy',\n",
              " 'happy',\n",
              " 'disgust',\n",
              " 'disgust',\n",
              " 'happy',\n",
              " 'fearful']"
            ]
          },
          "execution_count": 37,
          "metadata": {},
          "output_type": "execute_result"
        }
      ],
      "source": [
        "y_train"
      ]
    },
    {
      "cell_type": "code",
      "execution_count": null,
      "metadata": {
        "colab": {
          "base_uri": "https://localhost:8080/"
        },
        "id": "cNIOCRQ6qWOq",
        "outputId": "ecdf94c7-509e-43c8-e56e-240398e22936"
      },
      "outputs": [
        {
          "name": "stdout",
          "output_type": "stream",
          "text": [
            "(583, 195)\n"
          ]
        }
      ],
      "source": [
        "#Get the shape of the training and testing datasets\n",
        "print((x_train.shape[0], x_test.shape[0]))"
      ]
    },
    {
      "cell_type": "code",
      "execution_count": null,
      "metadata": {
        "colab": {
          "base_uri": "https://localhost:8080/"
        },
        "id": "XqoLMHgsqcP8",
        "outputId": "71a659f5-fe75-4459-e585-3465192bdf6c"
      },
      "outputs": [
        {
          "name": "stdout",
          "output_type": "stream",
          "text": [
            "Features extracted: 180\n"
          ]
        }
      ],
      "source": [
        "#Get the number of features extracted\n",
        "print(f'Features extracted: {x_train.shape[1]}')"
      ]
    },
    {
      "cell_type": "code",
      "execution_count": null,
      "metadata": {
        "id": "bQsjvZiwqcTN"
      },
      "outputs": [],
      "source": [
        "#Initialize the Multi Layer Perceptron Classifier\n",
        "model=MLPClassifier(alpha=0.01, batch_size=256, epsilon=1e-08, hidden_layer_sizes=(300,), learning_rate='adaptive', max_iter=500)"
      ]
    },
    {
      "cell_type": "code",
      "execution_count": null,
      "metadata": {
        "colab": {
          "base_uri": "https://localhost:8080/",
          "height": 93
        },
        "id": "tmZiXDHPqcV5",
        "outputId": "f87e4625-1678-4a08-d25d-26c5a67284aa"
      },
      "outputs": [
        {
          "data": {
            "text/html": [
              "<style>#sk-container-id-1 {color: black;background-color: white;}#sk-container-id-1 pre{padding: 0;}#sk-container-id-1 div.sk-toggleable {background-color: white;}#sk-container-id-1 label.sk-toggleable__label {cursor: pointer;display: block;width: 100%;margin-bottom: 0;padding: 0.3em;box-sizing: border-box;text-align: center;}#sk-container-id-1 label.sk-toggleable__label-arrow:before {content: \"▸\";float: left;margin-right: 0.25em;color: #696969;}#sk-container-id-1 label.sk-toggleable__label-arrow:hover:before {color: black;}#sk-container-id-1 div.sk-estimator:hover label.sk-toggleable__label-arrow:before {color: black;}#sk-container-id-1 div.sk-toggleable__content {max-height: 0;max-width: 0;overflow: hidden;text-align: left;background-color: #f0f8ff;}#sk-container-id-1 div.sk-toggleable__content pre {margin: 0.2em;color: black;border-radius: 0.25em;background-color: #f0f8ff;}#sk-container-id-1 input.sk-toggleable__control:checked~div.sk-toggleable__content {max-height: 200px;max-width: 100%;overflow: auto;}#sk-container-id-1 input.sk-toggleable__control:checked~label.sk-toggleable__label-arrow:before {content: \"▾\";}#sk-container-id-1 div.sk-estimator input.sk-toggleable__control:checked~label.sk-toggleable__label {background-color: #d4ebff;}#sk-container-id-1 div.sk-label input.sk-toggleable__control:checked~label.sk-toggleable__label {background-color: #d4ebff;}#sk-container-id-1 input.sk-hidden--visually {border: 0;clip: rect(1px 1px 1px 1px);clip: rect(1px, 1px, 1px, 1px);height: 1px;margin: -1px;overflow: hidden;padding: 0;position: absolute;width: 1px;}#sk-container-id-1 div.sk-estimator {font-family: monospace;background-color: #f0f8ff;border: 1px dotted black;border-radius: 0.25em;box-sizing: border-box;margin-bottom: 0.5em;}#sk-container-id-1 div.sk-estimator:hover {background-color: #d4ebff;}#sk-container-id-1 div.sk-parallel-item::after {content: \"\";width: 100%;border-bottom: 1px solid gray;flex-grow: 1;}#sk-container-id-1 div.sk-label:hover label.sk-toggleable__label {background-color: #d4ebff;}#sk-container-id-1 div.sk-serial::before {content: \"\";position: absolute;border-left: 1px solid gray;box-sizing: border-box;top: 0;bottom: 0;left: 50%;z-index: 0;}#sk-container-id-1 div.sk-serial {display: flex;flex-direction: column;align-items: center;background-color: white;padding-right: 0.2em;padding-left: 0.2em;position: relative;}#sk-container-id-1 div.sk-item {position: relative;z-index: 1;}#sk-container-id-1 div.sk-parallel {display: flex;align-items: stretch;justify-content: center;background-color: white;position: relative;}#sk-container-id-1 div.sk-item::before, #sk-container-id-1 div.sk-parallel-item::before {content: \"\";position: absolute;border-left: 1px solid gray;box-sizing: border-box;top: 0;bottom: 0;left: 50%;z-index: -1;}#sk-container-id-1 div.sk-parallel-item {display: flex;flex-direction: column;z-index: 1;position: relative;background-color: white;}#sk-container-id-1 div.sk-parallel-item:first-child::after {align-self: flex-end;width: 50%;}#sk-container-id-1 div.sk-parallel-item:last-child::after {align-self: flex-start;width: 50%;}#sk-container-id-1 div.sk-parallel-item:only-child::after {width: 0;}#sk-container-id-1 div.sk-dashed-wrapped {border: 1px dashed gray;margin: 0 0.4em 0.5em 0.4em;box-sizing: border-box;padding-bottom: 0.4em;background-color: white;}#sk-container-id-1 div.sk-label label {font-family: monospace;font-weight: bold;display: inline-block;line-height: 1.2em;}#sk-container-id-1 div.sk-label-container {text-align: center;}#sk-container-id-1 div.sk-container {/* jupyter's `normalize.less` sets `[hidden] { display: none; }` but bootstrap.min.css set `[hidden] { display: none !important; }` so we also need the `!important` here to be able to override the default hidden behavior on the sphinx rendered scikit-learn.org. See: https://github.com/scikit-learn/scikit-learn/issues/21755 */display: inline-block !important;position: relative;}#sk-container-id-1 div.sk-text-repr-fallback {display: none;}</style><div id=\"sk-container-id-1\" class=\"sk-top-container\"><div class=\"sk-text-repr-fallback\"><pre>MLPClassifier(alpha=0.01, batch_size=256, hidden_layer_sizes=(300,),\n",
              "              learning_rate=&#x27;adaptive&#x27;, max_iter=500)</pre><b>In a Jupyter environment, please rerun this cell to show the HTML representation or trust the notebook. <br />On GitHub, the HTML representation is unable to render, please try loading this page with nbviewer.org.</b></div><div class=\"sk-container\" hidden><div class=\"sk-item\"><div class=\"sk-estimator sk-toggleable\"><input class=\"sk-toggleable__control sk-hidden--visually\" id=\"sk-estimator-id-1\" type=\"checkbox\" checked><label for=\"sk-estimator-id-1\" class=\"sk-toggleable__label sk-toggleable__label-arrow\">MLPClassifier</label><div class=\"sk-toggleable__content\"><pre>MLPClassifier(alpha=0.01, batch_size=256, hidden_layer_sizes=(300,),\n",
              "              learning_rate=&#x27;adaptive&#x27;, max_iter=500)</pre></div></div></div></div></div>"
            ],
            "text/plain": [
              "MLPClassifier(alpha=0.01, batch_size=256, hidden_layer_sizes=(300,),\n",
              "              learning_rate='adaptive', max_iter=500)"
            ]
          },
          "execution_count": 41,
          "metadata": {},
          "output_type": "execute_result"
        }
      ],
      "source": [
        "#Train the model\n",
        "model.fit(x_train,y_train)"
      ]
    },
    {
      "cell_type": "code",
      "execution_count": null,
      "metadata": {
        "id": "lumz8vRQqcYs"
      },
      "outputs": [],
      "source": [
        "#Predict for the test set\n",
        "y_pred=model.predict(x_test)"
      ]
    },
    {
      "cell_type": "code",
      "execution_count": null,
      "metadata": {
        "colab": {
          "base_uri": "https://localhost:8080/"
        },
        "id": "m604kmiFtxLP",
        "outputId": "0829fb8d-8084-4d63-aa29-ca644a1c0f43"
      },
      "outputs": [
        {
          "data": {
            "text/plain": [
              "array(['disgust', 'happy', 'calm', 'fearful', 'calm', 'calm', 'happy',\n",
              "       'disgust', 'fearful', 'fearful', 'fearful', 'happy', 'happy',\n",
              "       'fearful', 'calm', 'calm', 'happy', 'happy', 'disgust', 'fearful',\n",
              "       'disgust', 'calm', 'happy', 'happy', 'fearful', 'happy', 'calm',\n",
              "       'happy', 'calm', 'happy', 'happy', 'calm', 'fearful', 'disgust',\n",
              "       'calm', 'calm', 'disgust', 'calm', 'disgust', 'happy', 'happy',\n",
              "       'happy', 'happy', 'fearful', 'disgust', 'fearful', 'happy', 'calm',\n",
              "       'calm', 'calm', 'happy', 'happy', 'fearful', 'calm', 'calm',\n",
              "       'fearful', 'happy', 'happy', 'disgust', 'happy', 'fearful',\n",
              "       'fearful', 'happy', 'disgust', 'disgust', 'happy', 'fearful',\n",
              "       'disgust', 'happy', 'calm', 'disgust', 'disgust', 'fearful',\n",
              "       'happy', 'calm', 'disgust', 'happy', 'happy', 'happy', 'calm',\n",
              "       'fearful', 'calm', 'disgust', 'happy', 'happy', 'happy', 'disgust',\n",
              "       'fearful', 'calm', 'fearful', 'happy', 'calm', 'happy', 'calm',\n",
              "       'happy', 'calm', 'disgust', 'fearful', 'happy', 'fearful', 'calm',\n",
              "       'calm', 'happy', 'fearful', 'calm', 'happy', 'fearful', 'calm',\n",
              "       'happy', 'happy', 'happy', 'fearful', 'happy', 'calm', 'calm',\n",
              "       'fearful', 'calm', 'happy', 'disgust', 'calm', 'happy', 'disgust',\n",
              "       'happy', 'fearful', 'disgust', 'calm', 'fearful', 'calm', 'calm',\n",
              "       'happy', 'happy', 'fearful', 'happy', 'happy', 'disgust',\n",
              "       'disgust', 'happy', 'calm', 'happy', 'happy', 'happy', 'happy',\n",
              "       'disgust', 'disgust', 'calm', 'fearful', 'fearful', 'happy',\n",
              "       'happy', 'happy', 'happy', 'calm', 'disgust', 'happy', 'happy',\n",
              "       'calm', 'happy', 'happy', 'fearful', 'calm', 'happy', 'calm',\n",
              "       'happy', 'calm', 'happy', 'happy', 'disgust', 'happy', 'fearful',\n",
              "       'calm', 'fearful', 'fearful', 'happy', 'fearful', 'calm', 'happy',\n",
              "       'disgust', 'calm', 'calm', 'disgust', 'happy', 'happy', 'calm',\n",
              "       'happy', 'fearful', 'happy', 'disgust', 'disgust', 'calm',\n",
              "       'fearful', 'disgust', 'disgust', 'disgust', 'fearful', 'calm'],\n",
              "      dtype='<U7')"
            ]
          },
          "execution_count": 43,
          "metadata": {},
          "output_type": "execute_result"
        }
      ],
      "source": [
        "y_pred"
      ]
    },
    {
      "cell_type": "code",
      "execution_count": null,
      "metadata": {
        "colab": {
          "base_uri": "https://localhost:8080/"
        },
        "id": "IrCVcauwqkFs",
        "outputId": "72b8adc2-d5b5-44cf-8790-5ad92e55c2b7"
      },
      "outputs": [
        {
          "name": "stdout",
          "output_type": "stream",
          "text": [
            "Accuracy: 68.72%\n"
          ]
        }
      ],
      "source": [
        "#Calculate the accuracy of our model\n",
        "accuracy=accuracy_score(y_true=y_test, y_pred=y_pred)\n",
        "\n",
        "#Print the accuracy\n",
        "print(\"Accuracy: {:.2f}%\".format(accuracy*100))"
      ]
    },
    {
      "cell_type": "code",
      "execution_count": null,
      "metadata": {
        "id": "vJ8_B3O0qkJG"
      },
      "outputs": [],
      "source": [
        "from sklearn.metrics import accuracy_score, f1_score"
      ]
    },
    {
      "cell_type": "code",
      "execution_count": null,
      "metadata": {
        "colab": {
          "base_uri": "https://localhost:8080/"
        },
        "id": "_Ry4if_sqkLr",
        "outputId": "bcb6f92a-95fa-472a-e449-d258ae169c9c"
      },
      "outputs": [
        {
          "data": {
            "text/plain": [
              "array([0.7755102 , 0.63414634, 0.66666667, 0.66666667])"
            ]
          },
          "execution_count": 46,
          "metadata": {},
          "output_type": "execute_result"
        }
      ],
      "source": [
        "f1_score(y_test, y_pred,average=None)"
      ]
    },
    {
      "cell_type": "code",
      "execution_count": null,
      "metadata": {
        "colab": {
          "base_uri": "https://localhost:8080/",
          "height": 677
        },
        "id": "0Rt9YfZkCO5A",
        "outputId": "4a29ac7c-a2f7-4d6c-faa4-eededceced05"
      },
      "outputs": [
        {
          "data": {
            "text/html": [
              "\n",
              "  <div id=\"df-f41d3471-92d4-499b-a34e-5fb4316de41f\">\n",
              "    <div class=\"colab-df-container\">\n",
              "      <div>\n",
              "<style scoped>\n",
              "    .dataframe tbody tr th:only-of-type {\n",
              "        vertical-align: middle;\n",
              "    }\n",
              "\n",
              "    .dataframe tbody tr th {\n",
              "        vertical-align: top;\n",
              "    }\n",
              "\n",
              "    .dataframe thead th {\n",
              "        text-align: right;\n",
              "    }\n",
              "</style>\n",
              "<table border=\"1\" class=\"dataframe\">\n",
              "  <thead>\n",
              "    <tr style=\"text-align: right;\">\n",
              "      <th></th>\n",
              "      <th>Actual</th>\n",
              "      <th>Predicted</th>\n",
              "    </tr>\n",
              "  </thead>\n",
              "  <tbody>\n",
              "    <tr>\n",
              "      <th>0</th>\n",
              "      <td>disgust</td>\n",
              "      <td>disgust</td>\n",
              "    </tr>\n",
              "    <tr>\n",
              "      <th>1</th>\n",
              "      <td>fearful</td>\n",
              "      <td>happy</td>\n",
              "    </tr>\n",
              "    <tr>\n",
              "      <th>2</th>\n",
              "      <td>calm</td>\n",
              "      <td>calm</td>\n",
              "    </tr>\n",
              "    <tr>\n",
              "      <th>3</th>\n",
              "      <td>disgust</td>\n",
              "      <td>fearful</td>\n",
              "    </tr>\n",
              "    <tr>\n",
              "      <th>4</th>\n",
              "      <td>calm</td>\n",
              "      <td>calm</td>\n",
              "    </tr>\n",
              "    <tr>\n",
              "      <th>5</th>\n",
              "      <td>calm</td>\n",
              "      <td>calm</td>\n",
              "    </tr>\n",
              "    <tr>\n",
              "      <th>6</th>\n",
              "      <td>happy</td>\n",
              "      <td>happy</td>\n",
              "    </tr>\n",
              "    <tr>\n",
              "      <th>7</th>\n",
              "      <td>disgust</td>\n",
              "      <td>disgust</td>\n",
              "    </tr>\n",
              "    <tr>\n",
              "      <th>8</th>\n",
              "      <td>fearful</td>\n",
              "      <td>fearful</td>\n",
              "    </tr>\n",
              "    <tr>\n",
              "      <th>9</th>\n",
              "      <td>fearful</td>\n",
              "      <td>fearful</td>\n",
              "    </tr>\n",
              "    <tr>\n",
              "      <th>10</th>\n",
              "      <td>fearful</td>\n",
              "      <td>fearful</td>\n",
              "    </tr>\n",
              "    <tr>\n",
              "      <th>11</th>\n",
              "      <td>calm</td>\n",
              "      <td>happy</td>\n",
              "    </tr>\n",
              "    <tr>\n",
              "      <th>12</th>\n",
              "      <td>fearful</td>\n",
              "      <td>happy</td>\n",
              "    </tr>\n",
              "    <tr>\n",
              "      <th>13</th>\n",
              "      <td>fearful</td>\n",
              "      <td>fearful</td>\n",
              "    </tr>\n",
              "    <tr>\n",
              "      <th>14</th>\n",
              "      <td>disgust</td>\n",
              "      <td>calm</td>\n",
              "    </tr>\n",
              "    <tr>\n",
              "      <th>15</th>\n",
              "      <td>disgust</td>\n",
              "      <td>calm</td>\n",
              "    </tr>\n",
              "    <tr>\n",
              "      <th>16</th>\n",
              "      <td>fearful</td>\n",
              "      <td>happy</td>\n",
              "    </tr>\n",
              "    <tr>\n",
              "      <th>17</th>\n",
              "      <td>happy</td>\n",
              "      <td>happy</td>\n",
              "    </tr>\n",
              "    <tr>\n",
              "      <th>18</th>\n",
              "      <td>disgust</td>\n",
              "      <td>disgust</td>\n",
              "    </tr>\n",
              "    <tr>\n",
              "      <th>19</th>\n",
              "      <td>fearful</td>\n",
              "      <td>fearful</td>\n",
              "    </tr>\n",
              "  </tbody>\n",
              "</table>\n",
              "</div>\n",
              "      <button class=\"colab-df-convert\" onclick=\"convertToInteractive('df-f41d3471-92d4-499b-a34e-5fb4316de41f')\"\n",
              "              title=\"Convert this dataframe to an interactive table.\"\n",
              "              style=\"display:none;\">\n",
              "        \n",
              "  <svg xmlns=\"http://www.w3.org/2000/svg\" height=\"24px\"viewBox=\"0 0 24 24\"\n",
              "       width=\"24px\">\n",
              "    <path d=\"M0 0h24v24H0V0z\" fill=\"none\"/>\n",
              "    <path d=\"M18.56 5.44l.94 2.06.94-2.06 2.06-.94-2.06-.94-.94-2.06-.94 2.06-2.06.94zm-11 1L8.5 8.5l.94-2.06 2.06-.94-2.06-.94L8.5 2.5l-.94 2.06-2.06.94zm10 10l.94 2.06.94-2.06 2.06-.94-2.06-.94-.94-2.06-.94 2.06-2.06.94z\"/><path d=\"M17.41 7.96l-1.37-1.37c-.4-.4-.92-.59-1.43-.59-.52 0-1.04.2-1.43.59L10.3 9.45l-7.72 7.72c-.78.78-.78 2.05 0 2.83L4 21.41c.39.39.9.59 1.41.59.51 0 1.02-.2 1.41-.59l7.78-7.78 2.81-2.81c.8-.78.8-2.07 0-2.86zM5.41 20L4 18.59l7.72-7.72 1.47 1.35L5.41 20z\"/>\n",
              "  </svg>\n",
              "      </button>\n",
              "      \n",
              "  <style>\n",
              "    .colab-df-container {\n",
              "      display:flex;\n",
              "      flex-wrap:wrap;\n",
              "      gap: 12px;\n",
              "    }\n",
              "\n",
              "    .colab-df-convert {\n",
              "      background-color: #E8F0FE;\n",
              "      border: none;\n",
              "      border-radius: 50%;\n",
              "      cursor: pointer;\n",
              "      display: none;\n",
              "      fill: #1967D2;\n",
              "      height: 32px;\n",
              "      padding: 0 0 0 0;\n",
              "      width: 32px;\n",
              "    }\n",
              "\n",
              "    .colab-df-convert:hover {\n",
              "      background-color: #E2EBFA;\n",
              "      box-shadow: 0px 1px 2px rgba(60, 64, 67, 0.3), 0px 1px 3px 1px rgba(60, 64, 67, 0.15);\n",
              "      fill: #174EA6;\n",
              "    }\n",
              "\n",
              "    [theme=dark] .colab-df-convert {\n",
              "      background-color: #3B4455;\n",
              "      fill: #D2E3FC;\n",
              "    }\n",
              "\n",
              "    [theme=dark] .colab-df-convert:hover {\n",
              "      background-color: #434B5C;\n",
              "      box-shadow: 0px 1px 3px 1px rgba(0, 0, 0, 0.15);\n",
              "      filter: drop-shadow(0px 1px 2px rgba(0, 0, 0, 0.3));\n",
              "      fill: #FFFFFF;\n",
              "    }\n",
              "  </style>\n",
              "\n",
              "      <script>\n",
              "        const buttonEl =\n",
              "          document.querySelector('#df-f41d3471-92d4-499b-a34e-5fb4316de41f button.colab-df-convert');\n",
              "        buttonEl.style.display =\n",
              "          google.colab.kernel.accessAllowed ? 'block' : 'none';\n",
              "\n",
              "        async function convertToInteractive(key) {\n",
              "          const element = document.querySelector('#df-f41d3471-92d4-499b-a34e-5fb4316de41f');\n",
              "          const dataTable =\n",
              "            await google.colab.kernel.invokeFunction('convertToInteractive',\n",
              "                                                     [key], {});\n",
              "          if (!dataTable) return;\n",
              "\n",
              "          const docLinkHtml = 'Like what you see? Visit the ' +\n",
              "            '<a target=\"_blank\" href=https://colab.research.google.com/notebooks/data_table.ipynb>data table notebook</a>'\n",
              "            + ' to learn more about interactive tables.';\n",
              "          element.innerHTML = '';\n",
              "          dataTable['output_type'] = 'display_data';\n",
              "          await google.colab.output.renderOutput(dataTable, element);\n",
              "          const docLink = document.createElement('div');\n",
              "          docLink.innerHTML = docLinkHtml;\n",
              "          element.appendChild(docLink);\n",
              "        }\n",
              "      </script>\n",
              "    </div>\n",
              "  </div>\n",
              "  "
            ],
            "text/plain": [
              "     Actual Predicted\n",
              "0   disgust   disgust\n",
              "1   fearful     happy\n",
              "2      calm      calm\n",
              "3   disgust   fearful\n",
              "4      calm      calm\n",
              "5      calm      calm\n",
              "6     happy     happy\n",
              "7   disgust   disgust\n",
              "8   fearful   fearful\n",
              "9   fearful   fearful\n",
              "10  fearful   fearful\n",
              "11     calm     happy\n",
              "12  fearful     happy\n",
              "13  fearful   fearful\n",
              "14  disgust      calm\n",
              "15  disgust      calm\n",
              "16  fearful     happy\n",
              "17    happy     happy\n",
              "18  disgust   disgust\n",
              "19  fearful   fearful"
            ]
          },
          "execution_count": 47,
          "metadata": {},
          "output_type": "execute_result"
        }
      ],
      "source": [
        "import pandas as pd\n",
        "df=pd.DataFrame({'Actual': y_test, 'Predicted':y_pred})\n",
        "df.head(20)"
      ]
    },
    {
      "cell_type": "code",
      "execution_count": null,
      "metadata": {
        "id": "IQbSLaynafSt"
      },
      "outputs": [],
      "source": []
    },
    {
      "cell_type": "code",
      "execution_count": null,
      "metadata": {
        "id": "eYPWbWLBqkN7"
      },
      "outputs": [],
      "source": [
        "import pickle\n",
        "# Writing different model files to file\n",
        "with open( 'modelForPrediction1.pkl', 'wb') as f:\n",
        "    pickle.dump(model,f)"
      ]
    },
    {
      "cell_type": "code",
      "execution_count": null,
      "metadata": {
        "colab": {
          "base_uri": "https://localhost:8080/"
        },
        "id": "dw0IfunzvqtV",
        "outputId": "c843c165-8052-4d31-8f8c-cc8dd4956cb3"
      },
      "outputs": [
        {
          "data": {
            "text/plain": [
              "array(['disgust'], dtype='<U7')"
            ]
          },
          "execution_count": 51,
          "metadata": {},
          "output_type": "execute_result"
        }
      ],
      "source": [
        "filename = 'modelForPrediction1.pkl'\n",
        "loaded_model = pickle.load(open(filename, 'rb')) # loading the model file from the storage\n",
        "\n",
        "feature=extract_feature(\"/content/sad.wav\", mfcc=True, chroma=True, mel=True)\n",
        "\n",
        "feature=feature.reshape(1,-1)\n",
        "\n",
        "prediction=loaded_model.predict(feature)\n",
        "prediction"
      ]
    },
    {
      "cell_type": "code",
      "execution_count": null,
      "metadata": {
        "colab": {
          "base_uri": "https://localhost:8080/"
        },
        "id": "Wa2VOCqHVXhW",
        "outputId": "10ab918c-c56b-4556-fc8e-b373397fe856"
      },
      "outputs": [
        {
          "name": "stdout",
          "output_type": "stream",
          "text": [
            "Looking in indexes: https://pypi.org/simple, https://us-python.pkg.dev/colab-wheels/public/simple/\n",
            "Requirement already satisfied: flask-ngrok in /usr/local/lib/python3.9/dist-packages (0.0.25)\n",
            "Requirement already satisfied: requests in /usr/local/lib/python3.9/dist-packages (from flask-ngrok) (2.27.1)\n",
            "Requirement already satisfied: Flask>=0.8 in /usr/local/lib/python3.9/dist-packages (from flask-ngrok) (2.2.3)\n",
            "Requirement already satisfied: Werkzeug>=2.2.2 in /usr/local/lib/python3.9/dist-packages (from Flask>=0.8->flask-ngrok) (2.2.3)\n",
            "Requirement already satisfied: click>=8.0 in /usr/local/lib/python3.9/dist-packages (from Flask>=0.8->flask-ngrok) (8.1.3)\n",
            "Requirement already satisfied: itsdangerous>=2.0 in /usr/local/lib/python3.9/dist-packages (from Flask>=0.8->flask-ngrok) (2.1.2)\n",
            "Requirement already satisfied: Jinja2>=3.0 in /usr/local/lib/python3.9/dist-packages (from Flask>=0.8->flask-ngrok) (3.1.2)\n",
            "Requirement already satisfied: importlib-metadata>=3.6.0 in /usr/local/lib/python3.9/dist-packages (from Flask>=0.8->flask-ngrok) (6.1.0)\n",
            "Requirement already satisfied: idna<4,>=2.5 in /usr/local/lib/python3.9/dist-packages (from requests->flask-ngrok) (3.4)\n",
            "Requirement already satisfied: urllib3<1.27,>=1.21.1 in /usr/local/lib/python3.9/dist-packages (from requests->flask-ngrok) (1.26.15)\n",
            "Requirement already satisfied: certifi>=2017.4.17 in /usr/local/lib/python3.9/dist-packages (from requests->flask-ngrok) (2022.12.7)\n",
            "Requirement already satisfied: charset-normalizer~=2.0.0 in /usr/local/lib/python3.9/dist-packages (from requests->flask-ngrok) (2.0.12)\n",
            "Requirement already satisfied: zipp>=0.5 in /usr/local/lib/python3.9/dist-packages (from importlib-metadata>=3.6.0->Flask>=0.8->flask-ngrok) (3.15.0)\n",
            "Requirement already satisfied: MarkupSafe>=2.0 in /usr/local/lib/python3.9/dist-packages (from Jinja2>=3.0->Flask>=0.8->flask-ngrok) (2.1.2)\n"
          ]
        }
      ],
      "source": [
        "pip install flask-ngrok"
      ]
    },
    {
      "cell_type": "code",
      "execution_count": null,
      "metadata": {
        "colab": {
          "base_uri": "https://localhost:8080/"
        },
        "id": "grRD5MrTxOaL",
        "outputId": "5820b650-fb45-4b84-9802-a79691d53b3d"
      },
      "outputs": [
        {
          "name": "stdout",
          "output_type": "stream",
          "text": [
            "Looking in indexes: https://pypi.org/simple, https://us-python.pkg.dev/colab-wheels/public/simple/\n",
            "Requirement already satisfied: pyngrok in /usr/local/lib/python3.9/dist-packages (5.2.1)\n",
            "Requirement already satisfied: PyYAML in /usr/local/lib/python3.9/dist-packages (from pyngrok) (6.0)\n"
          ]
        }
      ],
      "source": [
        "pip install pyngrok"
      ]
    },
    {
      "cell_type": "code",
      "execution_count": null,
      "metadata": {
        "id": "2b_mwxpsyugl"
      },
      "outputs": [],
      "source": [
        "from flask import Flask, render_template\n",
        "from pyngrok import ngrok"
      ]
    },
    {
      "cell_type": "code",
      "execution_count": null,
      "metadata": {
        "id": "c5I40xNoiVqY"
      },
      "outputs": [],
      "source": [
        "port_no=5000"
      ]
    },
    {
      "cell_type": "code",
      "execution_count": null,
      "metadata": {
        "colab": {
          "background_save": true,
          "base_uri": "https://localhost:8080/"
        },
        "id": "LJ24p1DUiZ-v",
        "outputId": "d586f354-954d-4d66-c3b7-cdadf9bf05fa"
      },
      "outputs": [
        {
          "name": "stdout",
          "output_type": "stream",
          "text": [
            "to access the colab link please click {'http://2585-34-125-190-49.ngrok.io'}\n",
            " * Serving Flask app '__main__'\n",
            " * Debug mode: off\n"
          ]
        },
        {
          "name": "stderr",
          "output_type": "stream",
          "text": [
            "INFO:werkzeug:\u001b[31m\u001b[1mWARNING: This is a development server. Do not use it in a production deployment. Use a production WSGI server instead.\u001b[0m\n",
            " * Running on http://127.0.0.1:5000\n",
            "INFO:werkzeug:\u001b[33mPress CTRL+C to quit\u001b[0m\n"
          ]
        }
      ],
      "source": [
        "app=Flask(__name__, template_folder=\"/content/drive/MyDrive/Colab Notebooks/RAVDESS_Emotional_speech_audio/templates\")\n",
        "ngrok.set_auth_token('2NXytsBURleu8B5mzvSuCDhTl9x_5H8YbutZGKqh3Yuoc4cZd')\n",
        "public_url=ngrok.connect(port_no).public_url\n",
        "\n",
        "@app.route('/')\n",
        "def home():\n",
        "  if prediction=='calm':\n",
        "    return render_template(\"sad_Comedy.html\")\n",
        "  if prediction=='disgust':\n",
        "    return render_template(\"Disguest_Musical.html\")\n",
        "  if prediction == 'fearful':\n",
        "    return render_template(\"Fear_Sport.html\")\n",
        "  if prediction == 'happy':\n",
        "    return render_template(\"Angry_Family entertainments.html\")\n",
        "\n",
        "print(f\"to access the colab link please click\",{public_url})\n",
        "app.run(port=port_no)"
      ]
    }
  ],
  "metadata": {
    "colab": {
      "provenance": []
    },
    "kernelspec": {
      "display_name": "Python 3",
      "name": "python3"
    },
    "language_info": {
      "name": "python"
    }
  },
  "nbformat": 4,
  "nbformat_minor": 0
}